{
 "cells": [
  {
   "cell_type": "code",
   "execution_count": 6,
   "metadata": {
    "collapsed": true
   },
   "outputs": [],
   "source": [
    "#load dictionaries and batches\n",
    "import json\n",
    "with open('../data/protein/dictionaries_1.json') as f_in:\n",
    "    rev_dictionary = json.loads(f_in.readline())\n",
    "    dictionary = json.loads(f_in.readline())\n",
    "\n",
    "# this uses lots of memory\n",
    "csv = np.genfromtxt ('../data/protein/batches_1.json', delimiter=\",\")"
   ]
  },
  {
   "cell_type": "code",
   "execution_count": 7,
   "metadata": {
    "collapsed": false
   },
   "outputs": [
    {
     "data": {
      "text/plain": [
       "{'0': 'M',\n",
       " '1': 'L',\n",
       " '10': 'D',\n",
       " '11': 'R',\n",
       " '12': 'T',\n",
       " '13': 'P',\n",
       " '14': 'S',\n",
       " '15': 'G',\n",
       " '16': 'V',\n",
       " '17': 'H',\n",
       " '18': 'W',\n",
       " '19': 'C',\n",
       " '2': 'F',\n",
       " '20': 'U',\n",
       " '21': 'X',\n",
       " '22': 'B',\n",
       " '23': 'J',\n",
       " '24': 'Z',\n",
       " '3': 'Y',\n",
       " '4': 'I',\n",
       " '5': 'Q',\n",
       " '6': 'E',\n",
       " '7': 'N',\n",
       " '8': 'A',\n",
       " '9': 'K'}"
      ]
     },
     "execution_count": 7,
     "metadata": {},
     "output_type": "execute_result"
    }
   ],
   "source": [
    "def gen_batch(batch_size):\n",
    "    global data_index\n",
    "    if (data_index + batch_size) > csv.shape[0]:\n",
    "        data_index = 0\n",
    "    \n",
    "    batch = csv[data_index:batch_size,0]\n",
    "    labels = csv[data_index:batch_size,1]\n",
    "    \n",
    "    data_index = data_index + batch_size"
   ]
  },
  {
   "cell_type": "code",
   "execution_count": null,
   "metadata": {
    "collapsed": true
   },
   "outputs": [],
   "source": [
    "batch, labels = generate_batch(batch_size=8)\n",
    "for i in range(8):\n",
    "    print(batch[i], reverse_dictionary[batch[i]],\n",
    "      '->', labels[i, 0], reverse_dictionary[labels[i, 0]])"
   ]
  },
  {
   "cell_type": "code",
   "execution_count": null,
   "metadata": {
    "collapsed": true
   },
   "outputs": [],
   "source": []
  }
 ],
 "metadata": {
  "kernelspec": {
   "display_name": "Python 3",
   "language": "python",
   "name": "python3"
  },
  "language_info": {
   "codemirror_mode": {
    "name": "ipython",
    "version": 3
   },
   "file_extension": ".py",
   "mimetype": "text/x-python",
   "name": "python",
   "nbconvert_exporter": "python",
   "pygments_lexer": "ipython3",
   "version": "3.4.3"
  }
 },
 "nbformat": 4,
 "nbformat_minor": 0
}
